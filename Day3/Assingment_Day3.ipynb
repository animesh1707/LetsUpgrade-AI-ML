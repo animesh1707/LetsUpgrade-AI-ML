{
  "nbformat": 4,
  "nbformat_minor": 0,
  "metadata": {
    "colab": {
      "name": "Assingment_Day3.ipynb",
      "provenance": [],
      "collapsed_sections": []
    },
    "kernelspec": {
      "name": "python3",
      "display_name": "Python 3"
    }
  },
  "cells": [
    {
      "cell_type": "markdown",
      "metadata": {
        "id": "MswE5717L47D",
        "colab_type": "text"
      },
      "source": [
        "#***Question - 1***#\n",
        "##__Substraction Of two complex Number__##"
      ]
    },
    {
      "cell_type": "code",
      "metadata": {
        "id": "XICaj11Gj_mE",
        "colab_type": "code",
        "colab": {
          "base_uri": "https://localhost:8080/",
          "height": 34
        },
        "outputId": "6ac9effc-7e61-4d4b-9c24-2924b2b91b7a"
      },
      "source": [
        "a = 5+2j\n",
        "b = 3+4j\n",
        "print(a-b)"
      ],
      "execution_count": null,
      "outputs": [
        {
          "output_type": "stream",
          "text": [
            "(2-2j)\n"
          ],
          "name": "stdout"
        }
      ]
    },
    {
      "cell_type": "markdown",
      "metadata": {
        "id": "6Kc6HixgMQ5T",
        "colab_type": "text"
      },
      "source": [
        "#***Question - 2***#\n",
        "##__Fourth Squareroot of a  Number__##"
      ]
    },
    {
      "cell_type": "code",
      "metadata": {
        "id": "tH0FyhTLMfVA",
        "colab_type": "code",
        "colab": {
          "base_uri": "https://localhost:8080/",
          "height": 50
        },
        "outputId": "001f2c34-27b2-4091-8100-c0f80caf3ebb"
      },
      "source": [
        "import math\n",
        "a= int(input(\"Enter a Number: \"))\n",
        "sq = math.sqrt(math.sqrt(a))\n",
        "print(\"Fourth Square Root Of \",a,\" is \",sq)"
      ],
      "execution_count": null,
      "outputs": [
        {
          "output_type": "stream",
          "text": [
            "Enter a Number: 625\n",
            "Fourth Square Root Of  625  is  5.0\n"
          ],
          "name": "stdout"
        }
      ]
    },
    {
      "cell_type": "markdown",
      "metadata": {
        "id": "OdLI_PkbNCac",
        "colab_type": "text"
      },
      "source": [
        "#***Question - 3***#\n",
        "##__Swap of numbers using 3rd variable__##"
      ]
    },
    {
      "cell_type": "code",
      "metadata": {
        "id": "EP465BDTNC4A",
        "colab_type": "code",
        "colab": {
          "base_uri": "https://localhost:8080/",
          "height": 84
        },
        "outputId": "e9c96117-796a-43d0-e0c7-28a3a395acc2"
      },
      "source": [
        "a = int(input(\"Enetr The 1st No.: \"))\n",
        "b = int(input(\"Enetr The 2nd No.: \"))\n",
        "print(\"Before Swapping: a= \",a,\" and b = \",b)\n",
        "c=a\n",
        "a=b\n",
        "b=c\n",
        "print(\"After Swapping:  a= \",a,\" and b = \",b)"
      ],
      "execution_count": null,
      "outputs": [
        {
          "output_type": "stream",
          "text": [
            "Enetr The 1st No.: 1\n",
            "Enetr The 2nd No.: 2\n",
            "Before Swapping: a=  1  and b =  2\n",
            "After Swapping:  a=  2  and b =  1\n"
          ],
          "name": "stdout"
        }
      ]
    },
    {
      "cell_type": "markdown",
      "metadata": {
        "id": "hZUH4Cp9OyZB",
        "colab_type": "text"
      },
      "source": [
        "#***Question - 4***#\n",
        "##__Swap of numbers without 3rd variable__##"
      ]
    },
    {
      "cell_type": "code",
      "metadata": {
        "id": "SfnaP1OYO7sy",
        "colab_type": "code",
        "colab": {
          "base_uri": "https://localhost:8080/",
          "height": 84
        },
        "outputId": "815b05f7-b837-4ebf-98e8-7a0e4fd95f43"
      },
      "source": [
        "a = int(input(\"Enetr The 1st No.: \"))\n",
        "b = int(input(\"Enetr The 2nd No.: \"))\n",
        "print(\"Before Swapping: a= \",a,\" and b = \",b)\n",
        "a=a+b\n",
        "b=a-b\n",
        "a=a-b\n",
        "print(\"After Swapping:  a= \",a,\" and b = \",b)"
      ],
      "execution_count": null,
      "outputs": [
        {
          "output_type": "stream",
          "text": [
            "Enetr The 1st No.: 5\n",
            "Enetr The 2nd No.: 7\n",
            "Before Swapping: a=  5  and b =  7\n",
            "After Swapping:  a=  7  and b =  5\n"
          ],
          "name": "stdout"
        }
      ]
    },
    {
      "cell_type": "markdown",
      "metadata": {
        "id": "JkfE51QfP0_F",
        "colab_type": "text"
      },
      "source": [
        "#***Question - 5***#\n",
        "##__Fahrenheit to Celcius__##"
      ]
    },
    {
      "cell_type": "code",
      "metadata": {
        "id": "6YtRq7lzQIyz",
        "colab_type": "code",
        "colab": {
          "base_uri": "https://localhost:8080/",
          "height": 50
        },
        "outputId": "ddc9fc5c-5a57-4861-c148-ff7808263c69"
      },
      "source": [
        "f=float(input(\"Enter the temperature in Fahrenheit: \"))\n",
        "k=(f-32)*5/9 + 273.15\n",
        "print(k)\n"
      ],
      "execution_count": null,
      "outputs": [
        {
          "output_type": "stream",
          "text": [
            "Enter the temperature in Fahrenheit: 32\n",
            "273.15\n"
          ],
          "name": "stdout"
        }
      ]
    },
    {
      "cell_type": "markdown",
      "metadata": {
        "id": "26VoEd2qRhWz",
        "colab_type": "text"
      },
      "source": [
        "#***Question - 6***#\n",
        "##__DataTypes In Python__##"
      ]
    },
    {
      "cell_type": "code",
      "metadata": {
        "id": "l3diqPvkRzAn",
        "colab_type": "code",
        "colab": {
          "base_uri": "https://localhost:8080/",
          "height": 168
        },
        "outputId": "a5071f75-d9b0-42ef-87d9-70caa5985197"
      },
      "source": [
        "a = 15\n",
        "b= 12.3\n",
        "s=\"Animesh\"\n",
        "c=5+2j\n",
        "e = [\"abc\", \"big\", \"car\"]  \n",
        "f = (\"apple\", \"banana\", \"cherry\")  \n",
        "g = range(7)                       \n",
        "h = {\"name\" : \"John\", \"age\" : 36}  \n",
        "i = {\"apple\", \"banana\", \"cherry\"}  \n",
        "print(type(a))\n",
        "print(type(b))\n",
        "print(type(s))\n",
        "print(type(c))\n",
        "print(type(e))\n",
        "print(type(f))\n",
        "print(type(g))\n",
        "print(type(h))\n",
        "print(type(i))"
      ],
      "execution_count": null,
      "outputs": [
        {
          "output_type": "stream",
          "text": [
            "<class 'int'>\n",
            "<class 'float'>\n",
            "<class 'str'>\n",
            "<class 'complex'>\n",
            "<class 'list'>\n",
            "<class 'tuple'>\n",
            "<class 'range'>\n",
            "<class 'dict'>\n",
            "<class 'set'>\n"
          ],
          "name": "stdout"
        }
      ]
    },
    {
      "cell_type": "markdown",
      "metadata": {
        "id": "V-ldtIkpsK7L",
        "colab_type": "text"
      },
      "source": [
        "#***Question - 7***#\n",
        "__Create a Markdown cell in jupyter and list the steps discussed in the session by Dr. Darshan Ingle sir to create Github profile and upload Githubs Assignment link.__\n",
        "\n",
        "\n",
        "\n",
        "1.   Create a Github public repo and name it LetsUpgrade AI/ML\n",
        "2.   Upload the files/solution in the repo in day wise manner.\n",
        "3.   Copy the URL of the Folder of that day and paste in the Assignment Submission Form (Google Form)\n",
        "4.   Make sure you are filling correct details in the Assignment Submission Form.\n",
        "\n"
      ]
    },
    {
      "cell_type": "code",
      "metadata": {
        "id": "yooCWvGbtWJm",
        "colab_type": "code",
        "colab": {}
      },
      "source": [
        ""
      ],
      "execution_count": null,
      "outputs": []
    }
  ]
}