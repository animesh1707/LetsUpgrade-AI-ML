{
  "nbformat": 4,
  "nbformat_minor": 0,
  "metadata": {
    "colab": {
      "name": "Assingment_Day4.ipynb",
      "provenance": [],
      "collapsed_sections": []
    },
    "kernelspec": {
      "name": "python3",
      "display_name": "Python 3"
    }
  },
  "cells": [
    {
      "cell_type": "markdown",
      "metadata": {
        "id": "uOy7LRI6vI9c",
        "colab_type": "text"
      },
      "source": [
        "#***Question  - 1***#"
      ]
    },
    {
      "cell_type": "code",
      "metadata": {
        "id": "8t__kHEqvEkN",
        "colab_type": "code",
        "colab": {
          "base_uri": "https://localhost:8080/",
          "height": 151
        },
        "outputId": "d771e0bb-3991-41d1-9b96-400cfc1e03ea"
      },
      "source": [
        "a=int(input(\"Enter The Real part of 1st no.: \"))\n",
        "b=int(input(\"Enter The imaginary part of 1st no.: \"))\n",
        "c = int(input(\"Enter The Real part of 2nd no.: \"))\n",
        "d= int(input(\"Enter The imaginary part of 1st no.: \"))\n",
        "c1 = complex(a,b)\n",
        "c2 = complex(c,d)\n",
        "print(\"c1+c2: \",c1+c2)\n",
        "print(\"c1-c2: \",c1-c2)\n",
        "print(\"c1*c2: \",c1*c2)\n",
        "print(\"c1/c2: \",(c1/c2))\n",
        "# print(c1//c2)\n",
        "# print(c1%c2)\n",
        "#Floor Division and Modulo division do not operate on complex numbers "
      ],
      "execution_count": null,
      "outputs": [
        {
          "output_type": "stream",
          "text": [
            "Enter The Real part of 1st no.: 5\n",
            "Enter The imaginary part of 1st no.: 2\n",
            "Enter The Real part of 2nd no.: 9\n",
            "Enter The imaginary part of 1st no.: 7\n",
            "c1+c2:  (14+9j)\n",
            "c1-c2:  (-4-5j)\n",
            "c1*c2:  (31+53j)\n",
            "c1/c2: {0:.2f} (0.45384615384615384-0.13076923076923078j)\n"
          ],
          "name": "stdout"
        }
      ]
    },
    {
      "cell_type": "markdown",
      "metadata": {
        "id": "jyXqoT1Lz2vd",
        "colab_type": "text"
      },
      "source": [
        "#***Question  - 2***#"
      ]
    },
    {
      "cell_type": "code",
      "metadata": {
        "id": "dt3bML4Jz6ef",
        "colab_type": "code",
        "colab": {
          "base_uri": "https://localhost:8080/",
          "height": 118
        },
        "outputId": "852210e1-34fe-493d-e6a6-7dc16e888975"
      },
      "source": [
        "l=[0,1,2,3,4,5,6,7,8,9,]\n",
        "for i in range(10):\n",
        "  print(\"(\",i,\" : \",l[i],\")\", end=\" \")\n",
        "print(\"\\n\")\n",
        "for j in range(1,6):\n",
        "  print(\"(\",j,\" : \",l[j],\")\", end=\" \")\n",
        "print(\"\\n\")\n",
        "for k in range(0,10,2):\n",
        "  print(\"(\",k,\" : \",l[k],\")\", end=\" \")\n",
        "print(\"\\n\")\n",
        "# for m in range(-1):\n",
        "  # print(\"(\",m,\" : \",l[m],\")\", end=\" \")"
      ],
      "execution_count": 20,
      "outputs": [
        {
          "output_type": "stream",
          "text": [
            "( 0  :  0 ) ( 1  :  1 ) ( 2  :  2 ) ( 3  :  3 ) ( 4  :  4 ) ( 5  :  5 ) ( 6  :  6 ) ( 7  :  7 ) ( 8  :  8 ) ( 9  :  9 ) \n",
            "\n",
            "( 1  :  1 ) ( 2  :  2 ) ( 3  :  3 ) ( 4  :  4 ) ( 5  :  5 ) \n",
            "\n",
            "( 0  :  0 ) ( 2  :  2 ) ( 4  :  4 ) ( 6  :  6 ) ( 8  :  8 ) \n",
            "\n"
          ],
          "name": "stdout"
        }
      ]
    },
    {
      "cell_type": "markdown",
      "metadata": {
        "id": "REWO_kGpRCs7",
        "colab_type": "text"
      },
      "source": [
        "#***Range Function In Python***#\n",
        "The range() Function in python is used to generate a sequence.\n",
        "\n",
        "Range Function returns a sequence of number by default starting from 0 and step as 1.\n",
        "\n",
        "Range functions takes minimum of 1 parameter and a maximum of 3 parameter.\n",
        "\n",
        "Syntax of range are as follows:\n",
        "\n",
        "\n",
        "\n",
        "*   **range(start,stop,step)**\n",
        "*   For one parameter: __range(stop)__\n",
        "\n",
        "\n",
        "*   For two  parameter: __range(start,stop)__\n",
        "*   For Three parameter: __range(start,stop,step)__\n",
        "\n",
        "\n",
        "\n"
      ]
    },
    {
      "cell_type": "markdown",
      "metadata": {
        "id": "3lAXUNA85oUJ",
        "colab_type": "text"
      },
      "source": [
        "#***Question  - 3***#"
      ]
    },
    {
      "cell_type": "code",
      "metadata": {
        "id": "dU9Bbj7e5tFL",
        "colab_type": "code",
        "colab": {
          "base_uri": "https://localhost:8080/",
          "height": 67
        },
        "outputId": "ee9ccfce-5642-432d-9795-7dd7abd5b63f"
      },
      "source": [
        "a = int(input())\n",
        "b=int(input())\n",
        "if (a-b)>25:\n",
        "  print(\"Multiplication: \",a*b)\n",
        "else:\n",
        "  print(\"Division: \",a/b)"
      ],
      "execution_count": 23,
      "outputs": [
        {
          "output_type": "stream",
          "text": [
            "278\n",
            "17\n",
            "Multiplication:  4726\n"
          ],
          "name": "stdout"
        }
      ]
    },
    {
      "cell_type": "markdown",
      "metadata": {
        "id": "aHb9GuA47ZhN",
        "colab_type": "text"
      },
      "source": [
        "#***Question  - 4***#"
      ]
    },
    {
      "cell_type": "code",
      "metadata": {
        "id": "nRbKUQia7c4b",
        "colab_type": "code",
        "colab": {
          "base_uri": "https://localhost:8080/",
          "height": 101
        },
        "outputId": "8bddacd8-1a9e-442e-8639-7a112488282e"
      },
      "source": [
        "l1=[1,2,3,4,5,6,7,8,9,10]\n",
        "for i in l1:\n",
        "  if i%2==0:\n",
        "    print(\"Square of \", i,\"minus 2 is \",i**2-2)"
      ],
      "execution_count": 1,
      "outputs": [
        {
          "output_type": "stream",
          "text": [
            "Square of  2 minus 2 is  2\n",
            "Square of  4 minus 2 is  14\n",
            "Square of  6 minus 2 is  34\n",
            "Square of  8 minus 2 is  62\n",
            "Square of  10 minus 2 is  98\n"
          ],
          "name": "stdout"
        }
      ]
    },
    {
      "cell_type": "markdown",
      "metadata": {
        "id": "yAHXbQDd7ddA",
        "colab_type": "text"
      },
      "source": [
        "#***Question  - 5***#"
      ]
    },
    {
      "cell_type": "code",
      "metadata": {
        "id": "iDxWALJu7fuI",
        "colab_type": "code",
        "colab": {
          "base_uri": "https://localhost:8080/",
          "height": 67
        },
        "outputId": "2571f14c-67bb-4bf4-d810-54c307bae08f"
      },
      "source": [
        "l2 = [2,5,6,7,10,11,13,17,18,20]\n",
        "for i in l2:\n",
        "  if i>7 and i%2==0:\n",
        "    print(i)"
      ],
      "execution_count": null,
      "outputs": [
        {
          "output_type": "stream",
          "text": [
            "10\n",
            "18\n",
            "20\n"
          ],
          "name": "stdout"
        }
      ]
    }
  ]
}