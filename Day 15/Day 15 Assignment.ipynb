{
 "cells": [
  {
   "cell_type": "code",
   "execution_count": 36,
   "metadata": {},
   "outputs": [],
   "source": [
    "import numpy as np"
   ]
  },
  {
   "cell_type": "markdown",
   "metadata": {},
   "source": [
    "# 1. Create a 3x3x3 array with random values "
   ]
  },
  {
   "cell_type": "code",
   "execution_count": 38,
   "metadata": {},
   "outputs": [
    {
     "name": "stdout",
     "output_type": "stream",
     "text": [
      "[[[0.63260132 0.5292164  0.22706582]\n",
      "  [0.15264553 0.3345823  0.13314098]\n",
      "  [0.49898896 0.46955566 0.29943088]]\n",
      "\n",
      " [[0.94877866 0.5833975  0.11515015]\n",
      "  [0.31916122 0.52261707 0.46892668]\n",
      "  [0.8600634  0.98138176 0.15456157]]\n",
      "\n",
      " [[0.10840886 0.80092846 0.27562587]\n",
      "  [0.29302927 0.03727632 0.43830548]\n",
      "  [0.94747208 0.17958035 0.63875154]]]\n"
     ]
    }
   ],
   "source": [
    "randomNo = np.random.random((3,3,3))\n",
    "print(randomNo)"
   ]
  },
  {
   "cell_type": "markdown",
   "metadata": {},
   "source": [
    "# 2.Create a 5x5 matrix with values 1,2,3,4 just below the diagonal"
   ]
  },
  {
   "cell_type": "code",
   "execution_count": 15,
   "metadata": {},
   "outputs": [
    {
     "name": "stdout",
     "output_type": "stream",
     "text": [
      "[[0 0 0 0 0]\n",
      " [1 0 0 0 0]\n",
      " [0 2 0 0 0]\n",
      " [0 0 3 0 0]\n",
      " [0 0 0 4 0]]\n"
     ]
    }
   ],
   "source": [
    "digM=np.diag(1+np.arange(4), k = -1)\n",
    "print(digM)"
   ]
  },
  {
   "cell_type": "markdown",
   "metadata": {},
   "source": [
    "# 3.Create a 8x8 matrix and fill it with a checkerboard pattern"
   ]
  },
  {
   "cell_type": "code",
   "execution_count": 13,
   "metadata": {},
   "outputs": [
    {
     "name": "stdout",
     "output_type": "stream",
     "text": [
      "[[0 1 0 1 0 1 0 1]\n",
      " [1 0 1 0 1 0 1 0]\n",
      " [0 1 0 1 0 1 0 1]\n",
      " [1 0 1 0 1 0 1 0]\n",
      " [0 1 0 1 0 1 0 1]\n",
      " [1 0 1 0 1 0 1 0]\n",
      " [0 1 0 1 0 1 0 1]\n",
      " [1 0 1 0 1 0 1 0]]\n"
     ]
    }
   ],
   "source": [
    "cb=np.zeros((8,8),dtype=int)\n",
    "cb[1::2, ::2]=1\n",
    "cb[::2,1::2] =1\n",
    "print (cb)"
   ]
  },
  {
   "cell_type": "markdown",
   "metadata": {},
   "source": [
    "# 4. Normalize a 5x5 random matrix"
   ]
  },
  {
   "cell_type": "code",
   "execution_count": 29,
   "metadata": {},
   "outputs": [
    {
     "name": "stdout",
     "output_type": "stream",
     "text": [
      "Original Array\n",
      " [[0.01383819 0.77573984 0.19561638 0.33414142 0.81817227]\n",
      " [0.22739694 0.09728499 0.12488547 0.98563776 0.10736427]\n",
      " [0.73837938 0.90995708 0.9064995  0.44194782 0.32308166]\n",
      " [0.89228607 0.83528512 0.73905936 0.07293293 0.06991089]\n",
      " [0.56661754 0.65181707 0.75891915 0.35398607 0.59706812]]\n",
      "Normalize Array\n",
      " [[0.01031962 0.79433072 0.19737279 0.33991766 0.83799448]\n",
      " [0.23007558 0.09618794 0.12458936 1.01031962 0.10655972]\n",
      " [0.75588611 0.93244277 0.92888487 0.45085247 0.32853696]\n",
      " [0.91425898 0.85560393 0.75658582 0.07112922 0.06801948]\n",
      " [0.57913995 0.66681186 0.77702191 0.36033817 0.61047416]]\n"
     ]
    }
   ],
   "source": [
    "normNO = np.random.random((5,5))\n",
    "print(\"Original Array\\n\",normNO)\n",
    "maxno, minno = normNO.max(), normNO.min()\n",
    "\n",
    "normNO= (normNO-Zmin)/(maxno-minno)  \n",
    "print(\"Normalize Array\\n\",normNO)"
   ]
  },
  {
   "cell_type": "markdown",
   "metadata": {},
   "source": [
    "# 5.  How to find common values between two arrays?"
   ]
  },
  {
   "cell_type": "code",
   "execution_count": 40,
   "metadata": {},
   "outputs": [
    {
     "name": "stdout",
     "output_type": "stream",
     "text": [
      "First array : [1 2 3 4 5]\n",
      "Second array: [3, 5, 4, 2, 0, 9]\n",
      "Common values between two arrays are:\n",
      "[2 3 4 5]\n"
     ]
    }
   ],
   "source": [
    "firstA = np.array([1,2,3,4,5])\n",
    "print(\"First array :\",firstA)\n",
    "secondA = [3,5,4,2,0,9]\n",
    "print(\"Second array:\",secondA)\n",
    "print(\"Common values between two arrays are:\")\n",
    "print(np.intersect1d(firstA, secondA))"
   ]
  },
  {
   "cell_type": "markdown",
   "metadata": {},
   "source": [
    "# 6.How to get the dates of yesterday, today and tomorrow?"
   ]
  },
  {
   "cell_type": "code",
   "execution_count": 42,
   "metadata": {},
   "outputs": [
    {
     "name": "stdout",
     "output_type": "stream",
     "text": [
      "Yesterday's Date: 2020-07-25\n",
      "Today's Date: 2020-07-26\n",
      "Tomorrow's Date: 2020-07-27\n"
     ]
    }
   ],
   "source": [
    "yesterday=np.datetime64('today','D')-np.timedelta64(1,'D')\n",
    "print(\"Yesterday's Date:\",yesterday)\n",
    "today=np.datetime64('today','D')\n",
    "print(\"Today's Date:\",today)\n",
    "tomorrow=np.datetime64('today','D')+np.timedelta64(1,'D')\n",
    "print(\"Tomorrow's Date:\",tomorrow)"
   ]
  },
  {
   "cell_type": "markdown",
   "metadata": {},
   "source": [
    "# 7. Consider two random array A and B, check if they are equal"
   ]
  },
  {
   "cell_type": "code",
   "execution_count": 46,
   "metadata": {},
   "outputs": [
    {
     "name": "stdout",
     "output_type": "stream",
     "text": [
      "Array A: [4 0 2 4 0 2 4]\n",
      "Array B: [4 1 0 1 0 4 4]\n",
      "Check if array's values are equal: False\n"
     ]
    }
   ],
   "source": [
    "A = np.random.randint(0,5,7)\n",
    "print(\"Array A:\",A)\n",
    "B = np.random.randint(0,5,7)\n",
    "print(\"Array B:\",B)\n",
    "equal = np.array_equal(A,B)\n",
    "print(\"Check if array's values are equal:\",equal)"
   ]
  },
  {
   "cell_type": "markdown",
   "metadata": {},
   "source": [
    "# 8.Create random vector of size 10 and replace the maximum value by 0 "
   ]
  },
  {
   "cell_type": "code",
   "execution_count": 51,
   "metadata": {},
   "outputs": [
    {
     "name": "stdout",
     "output_type": "stream",
     "text": [
      "random values:\n",
      " [0.65161962 0.87500454 0.93530877 0.48961752 0.52312052 0.88211101]\n",
      "After replacing maximum number with 0:\n",
      " [0.65161962 0.87500454 0.         0.48961752 0.52312052 0.88211101]\n"
     ]
    }
   ],
   "source": [
    "vec=np.random.random(6)\n",
    "print(\"random values:\\n\",vec)\n",
    "vec[vec.argmax()] = 0\n",
    "print(\"After replacing maximum number with 0:\\n\",vec)"
   ]
  },
  {
   "cell_type": "markdown",
   "metadata": {},
   "source": [
    "# 9. How to print all the values of an array?"
   ]
  },
  {
   "cell_type": "code",
   "execution_count": 54,
   "metadata": {},
   "outputs": [
    {
     "name": "stdout",
     "output_type": "stream",
     "text": [
      "print all vales in array:\n",
      " [[0. 0. 0. 0. 0.]\n",
      " [0. 0. 0. 0. 0.]\n",
      " [0. 0. 0. 0. 0.]\n",
      " [0. 0. 0. 0. 0.]\n",
      " [0. 0. 0. 0. 0.]]\n"
     ]
    }
   ],
   "source": [
    "val=np.zeros((5,5))\n",
    "print(\"print all vales in array:\\n\",val)"
   ]
  },
  {
   "cell_type": "markdown",
   "metadata": {},
   "source": [
    "# 10.Subtract the mean of each row of a matrix"
   ]
  },
  {
   "cell_type": "code",
   "execution_count": 59,
   "metadata": {},
   "outputs": [
    {
     "name": "stdout",
     "output_type": "stream",
     "text": [
      "Original matrix:\n",
      " [[0.02951505 0.06358913 0.04329458 0.45371697 0.59927469 0.60378073\n",
      "  0.12766281 0.40612948 0.34267737 0.88188681]\n",
      " [0.55216444 0.86529591 0.54776315 0.01060513 0.32274638 0.94158509\n",
      "  0.49262848 0.18380539 0.20870952 0.62242442]\n",
      " [0.43749683 0.96515262 0.15909489 0.68501137 0.75309747 0.21304069\n",
      "  0.09296191 0.51029834 0.1373448  0.54439933]\n",
      " [0.56893619 0.38472116 0.91057635 0.7390995  0.34719104 0.52413716\n",
      "  0.50993918 0.63575504 0.71328713 0.6200302 ]\n",
      " [0.60914977 0.16536372 0.98779967 0.84154694 0.02444412 0.67198585\n",
      "  0.54282444 0.37559127 0.85879121 0.94125359]]\n",
      "Subtracting the mean of each row:\n",
      " [[-0.32563771 -0.29156363 -0.31185818  0.09856421  0.24412193  0.24862796\n",
      "  -0.22748996  0.05097672 -0.01247539  0.52673405]\n",
      " [ 0.07739165  0.39052312  0.07299035 -0.46416766 -0.15202641  0.4668123\n",
      "   0.01785569 -0.2909674  -0.26606327  0.14765162]\n",
      " [-0.012293    0.51536279 -0.29069494  0.23522155  0.30330765 -0.23674913\n",
      "  -0.35682792  0.06050851 -0.31244502  0.0946095 ]\n",
      " [-0.02643111 -0.21064614  0.31520905  0.1437322  -0.24817626 -0.07123013\n",
      "  -0.08542812  0.04038775  0.11791984  0.02466291]\n",
      " [ 0.00727471 -0.43651134  0.38592461  0.23967189 -0.57743094  0.07011079\n",
      "  -0.05905061 -0.22628379  0.25691615  0.33937853]]\n"
     ]
    }
   ],
   "source": [
    "orgi = np.random.rand(5, 10)\n",
    "print(\"Original matrix:\\n\",orgi)\n",
    "meansub =orgi-orgi.mean(axis=1, keepdims=True)\n",
    "print(\"Subtracting the mean of each row:\\n\",meansub)"
   ]
  },
  {
   "cell_type": "markdown",
   "metadata": {},
   "source": [
    "# 11.Consider a given vector, how to add 1 to each element indexed by a second vector (be careful with repeated indices)? "
   ]
  },
  {
   "cell_type": "code",
   "execution_count": 62,
   "metadata": {},
   "outputs": [
    {
     "name": "stdout",
     "output_type": "stream",
     "text": [
      "[2. 3. 4. 3. 4. 4. 3. 4. 1. 2.]\n"
     ]
    }
   ],
   "source": [
    "Z = np.ones(10)\n",
    "I = np.random.randint(0,len(Z),20)\n",
    "Z += np.bincount(I, minlength=len(Z))\n",
    "print(Z)"
   ]
  },
  {
   "cell_type": "markdown",
   "metadata": {},
   "source": [
    "# 12.How to get the diagonal of a dot product?"
   ]
  },
  {
   "cell_type": "code",
   "execution_count": 73,
   "metadata": {},
   "outputs": [
    {
     "name": "stdout",
     "output_type": "stream",
     "text": [
      "First Matrix:\n",
      " [[5 7]\n",
      " [8 9]]\n",
      "Second Matrix:\n",
      " [[5 7]\n",
      " [8 9]]\n",
      "Diagonal of a dot product: [ 81 137]\n"
     ]
    }
   ],
   "source": [
    "a = np.array([[5,7],[8,9]]) \n",
    "print(\"First Matrix:\\n\",a)\n",
    "b= np.array([[5,7],[8,9]]) \n",
    "print(\"Second Matrix:\\n\",b)\n",
    "print(\"Diagonal of a dot product:\",np.diag(np.dot(a,b)))"
   ]
  },
  {
   "cell_type": "markdown",
   "metadata": {},
   "source": [
    "# 13.How to find the most frequent value in an array?"
   ]
  },
  {
   "cell_type": "code",
   "execution_count": 76,
   "metadata": {},
   "outputs": [
    {
     "name": "stdout",
     "output_type": "stream",
     "text": [
      "[ 4  3  5  6 19 11 11  1 14 14 17 18 11  2 14  6  6  8 19 11]\n",
      "Most Frequent Value: 11\n"
     ]
    }
   ],
   "source": [
    "getvalues=np.random.randint(0,20,20)\n",
    "print(getvalues)\n",
    "mostFreq=np.bincount(getvalues).argmax()\n",
    "print(\"Most Frequent Value:\",mostFreq)"
   ]
  },
  {
   "cell_type": "markdown",
   "metadata": {},
   "source": [
    "# 14.How to get the n largest values of an array"
   ]
  },
  {
   "cell_type": "code",
   "execution_count": 82,
   "metadata": {},
   "outputs": [
    {
     "name": "stdout",
     "output_type": "stream",
     "text": [
      "Elements in array: [       5        7        0      999    10000 20039039]\n",
      "3 Largest values of array values: [     999    10000 20039039]\n"
     ]
    }
   ],
   "source": [
    "values=np.array([5,7,0,999,10000,20039039])\n",
    "print(\"Elements in array:\",values)\n",
    "n = 3\n",
    "large = values[np.argsort(values)[-n:]]\n",
    "print(\"3 Largest values of array values:\",large)"
   ]
  },
  {
   "cell_type": "markdown",
   "metadata": {},
   "source": [
    "# 15.How to create a record array from a regular array?"
   ]
  },
  {
   "cell_type": "code",
   "execution_count": 86,
   "metadata": {},
   "outputs": [
    {
     "name": "stdout",
     "output_type": "stream",
     "text": [
      "('New', 'Language')\n",
      "('Machine', 'Learning')\n"
     ]
    }
   ],
   "source": [
    "a = np.array(['New','Machine'])\n",
    "b = np.array(['Language','Learning'])\n",
    "c = np.array([2,1])\n",
    "record=np.core.records.fromarrays([a,b])\n",
    "print(record[0])\n",
    "print(record[1])"
   ]
  }
 ],
 "metadata": {
  "kernelspec": {
   "display_name": "Python 3",
   "language": "python",
   "name": "python3"
  },
  "language_info": {
   "codemirror_mode": {
    "name": "ipython",
    "version": 3
   },
   "file_extension": ".py",
   "mimetype": "text/x-python",
   "name": "python",
   "nbconvert_exporter": "python",
   "pygments_lexer": "ipython3",
   "version": "3.7.6"
  }
 },
 "nbformat": 4,
 "nbformat_minor": 2
}
