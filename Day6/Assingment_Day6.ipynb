{
 "cells": [
  {
   "cell_type": "markdown",
   "metadata": {
    "colab_type": "text",
    "id": "rGETjz8t0so6"
   },
   "source": [
    "#***Question - 1***#"
   ]
  },
  {
   "cell_type": "code",
   "execution_count": null,
   "metadata": {
    "colab": {
     "base_uri": "https://localhost:8080/",
     "height": 50
    },
    "colab_type": "code",
    "id": "XA3UiO2n0mD9",
    "outputId": "831111fd-c84c-402b-d71f-a1da970c7186"
   },
   "outputs": [
    {
     "name": "stdout",
     "output_type": "stream",
     "text": [
      "Enter The Email Id: john@google.com\n",
      "google\n"
     ]
    }
   ],
   "source": [
    "def refine(a):\n",
    "  b= a[a.index('@')+1:a.index('.')]\n",
    "  return b\n",
    "mail = input(\"Enter The Email Id: \")\n",
    "print(refine(mail))"
   ]
  },
  {
   "cell_type": "markdown",
   "metadata": {
    "colab_type": "text",
    "id": "cBvG2mCL37p0"
   },
   "source": [
    "***Question - 2***"
   ]
  },
  {
   "cell_type": "code",
   "execution_count": null,
   "metadata": {
    "colab": {
     "base_uri": "https://localhost:8080/",
     "height": 50
    },
    "colab_type": "code",
    "id": "XwSgRDd04BI2",
    "outputId": "e19bf562-af61-44b0-9e44-5457035268c3"
   },
   "outputs": [
    {
     "name": "stdout",
     "output_type": "stream",
     "text": [
      "Enter The Word: guy,jdfjk,ioeo,adje\n",
      "adje,guy,ioeo,jdfjk\n"
     ]
    }
   ],
   "source": [
    "a = input(\"Enter The Word: \").split(\",\")\n",
    "s=\",\"\n",
    "s=s.join(sorted(a))\n",
    "print(s)"
   ]
  },
  {
   "cell_type": "markdown",
   "metadata": {
    "colab_type": "text",
    "id": "4ht5h8Ah6rG7"
   },
   "source": [
    "#***Question - 4***#"
   ]
  },
  {
   "cell_type": "code",
   "execution_count": 10,
   "metadata": {
    "colab": {
     "base_uri": "https://localhost:8080/",
     "height": 50
    },
    "colab_type": "code",
    "id": "YQFpSEq1671X",
    "outputId": "be194627-9504-4da3-da35-f2f0beee4636"
   },
   "outputs": [
    {
     "name": "stdout",
     "output_type": "stream",
     "text": [
      "Enter The Sequence: 0 2 3 9 8 25 36\n",
      "<class 'int'>\n",
      "1,4,5,6,7,10,11,12,13,14,15,16,17,18,19,20,21,22,23,24,26,27,28,29,30,31,32,33,34,35,\n",
      "Total no. missing =  30\n"
     ]
    }
   ],
   "source": [
    "a = input(\"Enter The Sequence: \").split(\" \")\n",
    "ma = max(map(int,a))\n",
    "mi = min(map(int,a))\n",
    "ctr = 0\n",
    "for i in range(mi,ma):\n",
    "  if str(i+1) not in a:\n",
    "    print(i+1,end=\",\")\n",
    "    ctr = ctr+1\n",
    "print(\"\\nTotal no. missing = \",ctr)"
   ]
  },
  {
   "cell_type": "markdown",
   "metadata": {
    "colab_type": "text",
    "id": "wWJ9Y0JD85lr"
   },
   "source": [
    "#***Question - 5***#"
   ]
  },
  {
   "cell_type": "code",
   "execution_count": null,
   "metadata": {
    "colab": {
     "base_uri": "https://localhost:8080/",
     "height": 34
    },
    "colab_type": "code",
    "id": "axzzUK0Q849h",
    "outputId": "63d1f310-c0f0-4125-be24-d0aef565e69a"
   },
   "outputs": [
    {
     "name": "stdout",
     "output_type": "stream",
     "text": [
      "[12, 24, 35, 88, 120, 155]\n"
     ]
    }
   ],
   "source": [
    "# l = [12,24,35,24,88,120,155,88,120,155]\n",
    "# li = list(dict.fromkeys(l))\n",
    "# print(li)\n"
   ]
  }
 ],
 "metadata": {
  "colab": {
   "name": "Assingment_Day6.ipynb",
   "provenance": []
  },
  "kernelspec": {
   "display_name": "Python 3",
   "language": "python",
   "name": "python3"
  },
  "language_info": {
   "codemirror_mode": {
    "name": "ipython",
    "version": 3
   },
   "file_extension": ".py",
   "mimetype": "text/x-python",
   "name": "python",
   "nbconvert_exporter": "python",
   "pygments_lexer": "ipython3",
   "version": "3.7.6"
  }
 },
 "nbformat": 4,
 "nbformat_minor": 1
}
