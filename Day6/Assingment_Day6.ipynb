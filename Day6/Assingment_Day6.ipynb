{
  "nbformat": 4,
  "nbformat_minor": 0,
  "metadata": {
    "colab": {
      "name": "Assingment_Day6.ipynb",
      "provenance": []
    },
    "kernelspec": {
      "name": "python3",
      "display_name": "Python 3"
    }
  },
  "cells": [
    {
      "cell_type": "markdown",
      "metadata": {
        "id": "rGETjz8t0so6",
        "colab_type": "text"
      },
      "source": [
        "#***Question - 1***#"
      ]
    },
    {
      "cell_type": "code",
      "metadata": {
        "id": "XA3UiO2n0mD9",
        "colab_type": "code",
        "colab": {
          "base_uri": "https://localhost:8080/",
          "height": 50
        },
        "outputId": "831111fd-c84c-402b-d71f-a1da970c7186"
      },
      "source": [
        "def refine(a):\n",
        "  b= a[a.index('@')+1:a.index('.')]\n",
        "  return b\n",
        "mail = input(\"Enter The Email Id: \")\n",
        "print(refine(mail))"
      ],
      "execution_count": null,
      "outputs": [
        {
          "output_type": "stream",
          "text": [
            "Enter The Email Id: john@google.com\n",
            "google\n"
          ],
          "name": "stdout"
        }
      ]
    },
    {
      "cell_type": "markdown",
      "metadata": {
        "id": "cBvG2mCL37p0",
        "colab_type": "text"
      },
      "source": [
        "#***Question - 2***#"
      ]
    },
    {
      "cell_type": "code",
      "metadata": {
        "id": "XwSgRDd04BI2",
        "colab_type": "code",
        "colab": {
          "base_uri": "https://localhost:8080/",
          "height": 50
        },
        "outputId": "e19bf562-af61-44b0-9e44-5457035268c3"
      },
      "source": [
        "a = input(\"Enter The Word: \").split(\",\")\n",
        "s=\",\"\n",
        "s=s.join(sorted(a))\n",
        "print(s)"
      ],
      "execution_count": null,
      "outputs": [
        {
          "output_type": "stream",
          "text": [
            "Enter The Word: guy,jdfjk,ioeo,adje\n",
            "adje,guy,ioeo,jdfjk\n"
          ],
          "name": "stdout"
        }
      ]
    },
    {
      "cell_type": "markdown",
      "metadata": {
        "id": "4ht5h8Ah6rG7",
        "colab_type": "text"
      },
      "source": [
        "#***Question - 4***#"
      ]
    },
    {
      "cell_type": "code",
      "metadata": {
        "id": "YQFpSEq1671X",
        "colab_type": "code",
        "colab": {
          "base_uri": "https://localhost:8080/",
          "height": 50
        },
        "outputId": "be194627-9504-4da3-da35-f2f0beee4636"
      },
      "source": [
        "a = input(\"Enter The Sequence: \").split(\" \")\n",
        "ma = max(map(int,a))\n",
        "mi = min(map(int,a))\n",
        "for i in range(mi,ma):\n",
        "  if str(i+1) not in a:\n",
        "    print(i+1,end=\",\")\n"
      ],
      "execution_count": null,
      "outputs": [
        {
          "output_type": "stream",
          "text": [
            "Enter The Sequence: 0 2 3 5 9 11 25 36\n",
            "1,4,6,7,8,10,12,13,14,15,16,17,18,19,20,21,22,23,24,26,27,28,29,30,31,32,33,34,35,"
          ],
          "name": "stdout"
        }
      ]
    },
    {
      "cell_type": "markdown",
      "metadata": {
        "id": "wWJ9Y0JD85lr",
        "colab_type": "text"
      },
      "source": [
        "#***Question - 5***#"
      ]
    },
    {
      "cell_type": "code",
      "metadata": {
        "id": "axzzUK0Q849h",
        "colab_type": "code",
        "colab": {
          "base_uri": "https://localhost:8080/",
          "height": 34
        },
        "outputId": "63d1f310-c0f0-4125-be24-d0aef565e69a"
      },
      "source": [
        "l = [12,24,35,24,88,120,155,88,120,155]\n",
        "li = list(dict.fromkeys(l))\n",
        "print(li)"
      ],
      "execution_count": null,
      "outputs": [
        {
          "output_type": "stream",
          "text": [
            "[12, 24, 35, 88, 120, 155]\n"
          ],
          "name": "stdout"
        }
      ]
    }
  ]
}