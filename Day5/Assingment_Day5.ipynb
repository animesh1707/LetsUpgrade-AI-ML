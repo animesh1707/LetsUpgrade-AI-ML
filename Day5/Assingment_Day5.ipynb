{
  "nbformat": 4,
  "nbformat_minor": 0,
  "metadata": {
    "colab": {
      "name": "Assingment_Day5.ipynb",
      "provenance": [],
      "collapsed_sections": []
    },
    "kernelspec": {
      "name": "python3",
      "display_name": "Python 3"
    }
  },
  "cells": [
    {
      "cell_type": "markdown",
      "metadata": {
        "id": "nyi5_Z6Gx3Dg",
        "colab_type": "text"
      },
      "source": [
        "#***Question - 1***#"
      ]
    },
    {
      "cell_type": "code",
      "metadata": {
        "id": "OQLDzvQsxLcX",
        "colab_type": "code",
        "colab": {
          "base_uri": "https://localhost:8080/",
          "height": 151
        },
        "outputId": "e041576d-af97-4b54-f464-b1d8b39cd7ee"
      },
      "source": [
        "\n",
        "for num in range(1,21):\n",
        "  if num > 1:\n",
        "       for i in range(2, num):\n",
        "           if (num % i) == 0:\n",
        "               break\n",
        "       else:\n",
        "           print(num)"
      ],
      "execution_count": null,
      "outputs": [
        {
          "output_type": "stream",
          "text": [
            "2\n",
            "3\n",
            "5\n",
            "7\n",
            "11\n",
            "13\n",
            "17\n",
            "19\n"
          ],
          "name": "stdout"
        }
      ]
    },
    {
      "cell_type": "markdown",
      "metadata": {
        "id": "ObsNA7b70Jp0",
        "colab_type": "text"
      },
      "source": [
        "#***Questions - 2***#"
      ]
    },
    {
      "cell_type": "code",
      "metadata": {
        "id": "T-KKE9Y-0igR",
        "colab_type": "code",
        "colab": {
          "base_uri": "https://localhost:8080/",
          "height": 286
        },
        "outputId": "21db7764-6521-48b3-d558-a96bda9d51b5"
      },
      "source": [
        "s=\"Animesh GAuraaa\"\n",
        "print(s.split(\" \"))\n",
        "print(s.upper())\n",
        "print(s.lower())\n",
        "print(s.swapcase())\n",
        "print(s.capitalize())\n",
        "print(s.title())\n",
        "print(s.isalpha())\n",
        "print(s.isdigit())\n",
        "print(s.isalpha())\n",
        "print(s.replace('a','z'))\n",
        "print(s.rfind('mes',0,len(s)))\n",
        "print(len(s))\n",
        "print(s.partition(' '))\n",
        "print(s.startswith('Ani'))\n",
        "print(s.find('s'))\n",
        "print(s.index('G'))"
      ],
      "execution_count": null,
      "outputs": [
        {
          "output_type": "stream",
          "text": [
            "['Animesh', 'GAuraaa']\n",
            "ANIMESH GAURAAA\n",
            "animesh gauraaa\n",
            "aNIMESH gaURAAA\n",
            "Animesh gauraaa\n",
            "Animesh Gauraaa\n",
            "False\n",
            "False\n",
            "False\n",
            "Animesh GAurzzz\n",
            "3\n",
            "15\n",
            "('Animesh', ' ', 'GAuraaa')\n",
            "True\n",
            "5\n",
            "8\n"
          ],
          "name": "stdout"
        }
      ]
    },
    {
      "cell_type": "markdown",
      "metadata": {
        "id": "FB08KUYg6jdH",
        "colab_type": "text"
      },
      "source": [
        "#***Question - 3***#\n"
      ]
    },
    {
      "cell_type": "code",
      "metadata": {
        "id": "TaE682e06nss",
        "colab_type": "code",
        "colab": {
          "base_uri": "https://localhost:8080/",
          "height": 67
        },
        "outputId": "70e027ec-9d40-44de-9ae7-c67db771badb"
      },
      "source": [
        "from collections import Counter \n",
        "\n",
        "a = input(\"Enter The First String: \")\n",
        "b = input(\"Enter the Second String: \")\n",
        "if a[::-1]==b:\n",
        "  print(a,\" and \", b, \" are PALINDROME\")\n",
        "elif Counter(a)== Counter(b):\n",
        "  print(a,\" and \", b, \" are ANAGRAM\")\n",
        "else:\n",
        "  print(a,\" and \", b, \" are neither PALINDROME nor ANAGRAM\")"
      ],
      "execution_count": null,
      "outputs": [
        {
          "output_type": "stream",
          "text": [
            "Enter The First String: animesh\n",
            "Enter the Second String: aanimesh\n",
            "animesh  and  aanimesh  are neither PALINDROME nor ANAGRAM\n"
          ],
          "name": "stdout"
        }
      ]
    },
    {
      "cell_type": "markdown",
      "metadata": {
        "id": "JorIEaxzHG-P",
        "colab_type": "text"
      },
      "source": [
        "#***Question - 4***#\n",
        "\n"
      ]
    },
    {
      "cell_type": "code",
      "metadata": {
        "id": "oFFO9HuNHMB3",
        "colab_type": "code",
        "colab": {
          "base_uri": "https://localhost:8080/",
          "height": 50
        },
        "outputId": "d31adbe7-102a-482a-8b1d-b311cd6195e2"
      },
      "source": [
        "alphabet=[]\n",
        "alphabet[:] = \"abcdefghijklmnopqrstuvwxyz ABCDEFGHIJKLMNOPQRSTUVWXYZ\"\n",
        "\n",
        "def refine(s1):\n",
        "  v =\"\"\n",
        "  for i in range(0,len(s1)):\n",
        "    if s1[i] in alphabet:\n",
        "      v=v+s1[i]\n",
        "    # else:\n",
        "    #   s1.replace(s1[i],'#')\n",
        "  return v.lower()\n",
        " \n",
        "a1 = input()\n",
        "print(refine(a1))"
      ],
      "execution_count": null,
      "outputs": [
        {
          "output_type": "stream",
          "text": [
            "Dr.Darshan Ingle@ AI-ML Trainer\n",
            "drdarshan ingle aiml trainer\n"
          ],
          "name": "stdout"
        }
      ]
    }
  ]
}